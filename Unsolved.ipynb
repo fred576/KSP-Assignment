{
  "nbformat": 4,
  "nbformat_minor": 0,
  "metadata": {
    "colab": {
      "provenance": [],
      "authorship_tag": "ABX9TyNcvjDioFMfUeM9oTve1Weh",
      "include_colab_link": true
    },
    "kernelspec": {
      "name": "python3",
      "display_name": "Python 3"
    },
    "language_info": {
      "name": "python"
    }
  },
  "cells": [
    {
      "cell_type": "markdown",
      "metadata": {
        "id": "view-in-github",
        "colab_type": "text"
      },
      "source": [
        "<a href=\"https://colab.research.google.com/github/fred576/first/blob/main/Unsolved.ipynb\" target=\"_parent\"><img src=\"https://colab.research.google.com/assets/colab-badge.svg\" alt=\"Open In Colab\"/></a>"
      ]
    },
    {
      "cell_type": "markdown",
      "source": [
        "# **KSP 5.0 Selection Assignment**\n",
        "\n",
        "\n",
        "\n"
      ],
      "metadata": {
        "id": "WtNlMjVj1RzF"
      }
    },
    {
      "cell_type": "markdown",
      "source": [
        "The main aim behind this assignment is not to judge your coding skills but your ability to analyse the data and draw conclusions. Thus you should give enough attention to non-coding questions as well and the final conclusions that you draw from the data. Use of internet is highly encouraged to familiarise yourself with the required astronomy knowledge."
      ],
      "metadata": {
        "id": "t91osQnTGyhi"
      }
    },
    {
      "cell_type": "code",
      "execution_count": 1,
      "metadata": {
        "id": "7MSO4j6ysbSz"
      },
      "outputs": [],
      "source": [
        "import numpy as np\n",
        "import pandas as pd\n",
        "import matplotlib.pyplot as plt"
      ]
    },
    {
      "cell_type": "markdown",
      "source": [
        "# Section 1: Calculating the Redshift of Galaxies\n",
        "\n",
        "You are given the data for all the galaxies in the cluster in the file 'galaxy.csv'.\n",
        "\n",
        "This includes the name of the galaxy, observed wavelength of the $H\\alpha$ line $\\lambda_{H\\alpha}$, Right Ascension at J2000.0 and Declination and J2000.0 (You can read more about RA and Dec [here](https://en.wikipedia.org/wiki/Equatorial_coordinate_system))"
      ],
      "metadata": {
        "id": "YmKaCRwatFv3"
      }
    },
    {
      "cell_type": "code",
      "source": [
        "galaxy_data = pd.read_csv('galaxy.csv')"
      ],
      "metadata": {
        "id": "oAUNfVSjs6w6"
      },
      "execution_count": 5,
      "outputs": []
    },
    {
      "cell_type": "markdown",
      "source": [
        "\n",
        "Since the galaxies would have some radial velocities with respect to us, the wavelengths we observed would be [redshifted](https://en.wikipedia.org/wiki/Redshift) due to doppler effect.\n",
        "\n",
        "Using the value of the Observed Wavelength of $H\\alpha$ line (Rest Wavelength $\\lambda_{H\\alpha0} = 6562.8nm)$, calculate the redshift of the galaxies in our cluster.\n",
        "\n",
        "Use this to find their radial velocities of the galaxies and plot it.\n",
        "\n",
        "(Assume that the observed wavelength has been correscted for the motion of earth around sun, and motion of sun around the center of Milky Way. Put more simply, these are the wavelengths you would have observed if you were at rest at the center of Milky Way)"
      ],
      "metadata": {
        "id": "7lD7WBEgvRAz"
      }
    },
    {
      "cell_type": "code",
      "source": [
        "# your code here"
      ],
      "metadata": {
        "id": "WR7-miPtvT1K"
      },
      "execution_count": null,
      "outputs": []
    },
    {
      "cell_type": "markdown",
      "source": [
        "Using the data from galaxy.csv, answer the following questions.\n",
        "\n",
        "For your convenience, the RA and Dec data has been converted from the format $a^\\circ b^m c^s$ to $xx^\\circ$ below\n"
      ],
      "metadata": {
        "id": "2Nb1xAqnwtlS"
      }
    },
    {
      "cell_type": "code",
      "source": [
        "temp = galaxy_data['RA J2000.0'].str.split(' ', expand=True)\n",
        "galaxy_data['RA J2000.0'] = temp[0].astype(float) + temp[1].astype(float) / 60 + temp[2].astype(float) / 3600\n",
        "temp = galaxy_data['Dec J2000.0'].str.split(' ', expand=True)\n",
        "galaxy_data['Dec J2000.0'] = temp[0].astype(float) + temp[1].astype(float) / 60 + temp[2].astype(float) / 3600"
      ],
      "metadata": {
        "id": "qEHIP6SA0RDz"
      },
      "execution_count": 6,
      "outputs": []
    },
    {
      "cell_type": "markdown",
      "source": [
        "***\n",
        "\n",
        "###Q1.1. What is the approximate angular size of the galaxy cluster?\n",
        "\n",
        "\\<Your answer here\\>\n",
        "\n",
        "\n",
        "***\n",
        "\n",
        "###Q1.2. Can you comment anything about the rotation of the galaxies around the center of the cluster.\n",
        "HINT: You may find it useful to plot a scatter plot of RA and DEC with radial velocity as colormap.\n",
        "\n",
        "\\<Your answer here\\>   \n",
        "\n",
        "***"
      ],
      "metadata": {
        "id": "KzvIc02xzmlJ"
      }
    },
    {
      "cell_type": "code",
      "source": [
        "# your code here"
      ],
      "metadata": {
        "id": "Yr7PyFXmzhjD"
      },
      "execution_count": null,
      "outputs": []
    },
    {
      "cell_type": "markdown",
      "source": [
        "#Section 2: Calibrating Cepheids Data\n",
        "\n",
        "NOTE: Although there are no prerequisities for this section, it relies a bit on knowledge about cepheids and their Period-Luminosity Relation. Necessary resource links have been provided wherever needed. You are strongly encouraged to use the internet to aid as a reference whenever needed.\n",
        "***\n",
        "\n",
        "The [Gaia Mission](https://en.wikipedia.org/wiki/Gaia_(spacecraft) aims at cataloging and create a precise three-dimensional map of astronomical objects throughout the Mily Way. It maps the motion of the stars, which encode the origin and subsequent evolution of the Milky Way. The spectrophotometric measurements provide detailed physical properties of all stars observed, characterizing their luminosity, effective temperature, gravity and elemental composition.\n",
        "\n",
        "\n",
        "\n"
      ],
      "metadata": {
        "id": "zcy6mXIC0kix"
      }
    },
    {
      "cell_type": "code",
      "source": [
        "gaia_data = pd.read_csv('gaia.csv')"
      ],
      "metadata": {
        "id": "U584NF6h1h76"
      },
      "execution_count": 7,
      "outputs": []
    },
    {
      "cell_type": "markdown",
      "source": [
        "Cepheids are a particular type of variable stars that pulsates radially, varying in both diameter and temperature. They **changes in brightness**, with a **well-defined stable period and amplitude**.\n",
        "\n",
        "The file 'gaia.csv' includes data for about 5000 Cepheid Variable Stars in our own galaxy. In particular, the file contains the following data fields:\n",
        "   \n",
        "*   Unique ID of the Source Star\n",
        "*   Parallax (in milli arcseconds) : You can read more about parallax [here](https://en.wikipedia.org/wiki/Stellar_parallax)\n",
        "*   Mean **Apparent** Magnitude ($m$)\n",
        "*   TIme period of Pulsations P(in days)\n",
        "\n"
      ],
      "metadata": {
        "id": "ZhkNxgEi6z1k"
      }
    },
    {
      "cell_type": "markdown",
      "source": [
        "Classical Cepheids follow the [Period Luminosity Law](https://en.wikipedia.org/wiki/Period-luminosity_relation#The_relations), also commonly known as the Leavitt Law.\n",
        "\n",
        "It basically states that there is an empirical relation between the pulsation period $(P)$ of a Cepheid Star and it's **Absolute Magnitude** ($M$) of the form -\n",
        "\n",
        "#### $\\begin{equation}M = \\alpha \\log_{10}(P \\text{(in days)}) + \\beta \\end{equation}$\n",
        "***"
      ],
      "metadata": {
        "id": "n4EAaijG9rTk"
      }
    },
    {
      "cell_type": "markdown",
      "source": [
        "### Your aim is to verify Leavitt Law for cepheids using the given data, and find the values of $\\alpha$ and $\\beta$.\n",
        "\n",
        "You may find it helpful to use the function 'poly_fit' in numpy for this."
      ],
      "metadata": {
        "id": "hY04VqLu-ymk"
      }
    },
    {
      "cell_type": "code",
      "source": [
        "# your code here\n",
        "# Get the scatter plot of M and log_10(P) and the best fit line\n",
        "# Get the values of alpha and beta"
      ],
      "metadata": {
        "id": "loolzAz--xKC"
      },
      "execution_count": null,
      "outputs": []
    },
    {
      "cell_type": "markdown",
      "source": [
        "***\n",
        "### Some useful information about the Magnitude system\n",
        "\n",
        "The brightness of a star as seen by some observer is dependent on the observer's distance from the star as well as the intrinsic brightness of the star (ignoring any absorption in the intervening space).\n",
        "\n",
        "In astronomy, brightness of a star, as seen by some observer, is measured in terms of its **apparent magnitude ($m$)**. For two stars (1 and 2) with fluxes $f_1$ and $f_2$ respectively, their apparent magnitudes $m_1$ and $m_2$ are related by:\n",
        "\n",
        "$m_1 - m_2 = 2.5 \\log_{10} \\left( \\frac{f_1}{f_2} \\right)$\n",
        "\n",
        "**Absolute magnitude ($M$)** of any star is its apparent magnitude if the star was exactly 10 parsecs away from the observer. Thus, $M$ only depends on the intrinsic brightness of the star.\n",
        "\n",
        "***\n"
      ],
      "metadata": {
        "id": "bDet5DbFAA8J"
      }
    },
    {
      "cell_type": "markdown",
      "source": [
        "# Section 3: Getting the distances to our galaxies\n",
        "\n",
        "Now that we have our period-luminosity relation, we can observe cepheids in the galaxies in our cluster and use this to get the distances to our galaxies. (Yes, this is possible! Hubble Telescope actually observed Cepheids in the galaxies in Virgo Cluster)\n",
        "\n",
        "\n",
        "For this, you have been given the data file 'cepheid.csv' which contains the following data fields:\n",
        "*   Unique ID of the Cepheid\n",
        "*   Name of the Galaxy to which it belongs\n",
        "*   Mean Apparent Magnitude (m)\n",
        "*   Time Period of Pulsation (in days)"
      ],
      "metadata": {
        "id": "ks4Rp-ICC9mV"
      }
    },
    {
      "cell_type": "code",
      "source": [
        "#your code here"
      ],
      "metadata": {
        "id": "6rM8J4XaDBJq"
      },
      "execution_count": null,
      "outputs": []
    },
    {
      "cell_type": "markdown",
      "source": [
        "Use the Period-Luminosity Law derived in Section-2 and the above data to find an estimate for the distance to each galaxy in the cluster.\n",
        "\n",
        "Make sure to handle outliers in the above data. The data may contain some cepheids that actually DO NOT belong to the given galaxy, but it just seems to us that this is the case since they fall along the same line of sight.\n",
        "***"
      ],
      "metadata": {
        "id": "h762Ay3lEkEE"
      }
    },
    {
      "cell_type": "markdown",
      "source": [
        "# Section 4: Getting the Hubble's Constant\n",
        "\n",
        "The famous [Hubble's Law](https://en.wikipedia.org/wiki/Hubble%27s_law) is the observation that galaxies are moving away from Earth at speeds proportional to their distance.\n",
        "\n",
        "$v = H_0 d$\n",
        "\n",
        "where $H_0$ is the proportionalaity constant, also known as the Hubble's Constant.\n",
        "\n",
        "Now that we have an estimate for the radial velocities and distance to the galaxies in our cluster, find an estimate of the Hubble Constant (H).\n",
        "\n",
        "**Make sure to handle outliers - galaxies that may not be a part of our cluster.**"
      ],
      "metadata": {
        "id": "s_x6IfnGFwrv"
      }
    },
    {
      "cell_type": "code",
      "source": [
        "# your code here"
      ],
      "metadata": {
        "id": "J2-J4mgKG3hA"
      },
      "execution_count": null,
      "outputs": []
    },
    {
      "cell_type": "markdown",
      "source": [
        "Report your value of $H$ along with the error margins. Also plot a histogram of $H$"
      ],
      "metadata": {
        "id": "oiYEyUxZHVF9"
      }
    },
    {
      "cell_type": "code",
      "source": [
        "# your code here"
      ],
      "metadata": {
        "id": "WXckYPR5Hgz4"
      },
      "execution_count": null,
      "outputs": []
    },
    {
      "cell_type": "markdown",
      "source": [
        "***\n",
        "\n",
        "#### Q4.1 Compare the value of $H$ that you got from the standard $H_0$ commonly accepted today. The estimate that you got - is it the same (within error margins), higher or lower than the value of $H_0$.\n",
        "\n",
        "\\< Your answer here \\>\n",
        "\n",
        "***\n",
        "\n",
        "#### Q4.2 What might be the reason behind this difference in values\n",
        "\n",
        "\\< Your answer here \\>\n",
        "\n",
        "***"
      ],
      "metadata": {
        "id": "PVO4By-yHnOz"
      }
    },
    {
      "cell_type": "markdown",
      "source": [
        "# Section 5 : Dark Matter\n",
        "\n",
        "Dark matter is a component of the universe whose presence is discerned from its gravitational attraction rather than its luminosity.\n",
        "\n",
        "***\n",
        "\n",
        "#### Q5.1 ESTIMATE the total mass of the Galaxy Cluster. This includes mass due to visible matter as well as dark matter.\n",
        "\n",
        "HINT: The [Virial Theorem](https://phys.libretexts.org/Bookshelves/Classical_Mechanics/Variational_Principles_in_Classical_Mechanics_(Cline)/02%3A_Review_of_Newtonian_Mechanics/2.11%3A_Virial_Theorem) provides a general equation that relates the average over time of the total kinetic energy of a stable system of discrete particles, bound by a conservative force\n",
        " $$ \\left<KE\\right> = -\\frac{1}{2} \\left<PE\\right> $$\n",
        "\n",
        "\\< Your Answer here \\>\n"
      ],
      "metadata": {
        "id": "-Ye4FZwnJSxv"
      }
    },
    {
      "cell_type": "code",
      "source": [
        "# your code here"
      ],
      "metadata": {
        "id": "I7zq_TRhM7Js"
      },
      "execution_count": null,
      "outputs": []
    },
    {
      "cell_type": "markdown",
      "source": [
        "\n",
        "***\n",
        "\n",
        "#### Q5.2 ESTIMATE the visible mass in the galaxy cluster.\n",
        "\n",
        "\\< Your answer here \\>"
      ],
      "metadata": {
        "id": "wNnOrUIVEREZ"
      }
    },
    {
      "cell_type": "code",
      "source": [
        "# your code here"
      ],
      "metadata": {
        "id": "FtRQ9fdZETXD"
      },
      "execution_count": null,
      "outputs": []
    },
    {
      "cell_type": "markdown",
      "source": [
        "***\n",
        "\n",
        "#### Q5.3 What is the fraction of the total mass of the galaxy cluster that is actually in the form of Dark Matter\n",
        "\n",
        "\\< Your answer here \\>\n",
        "\n",
        "***"
      ],
      "metadata": {
        "id": "PooF4Y-AM9Cu"
      }
    }
  ]
}